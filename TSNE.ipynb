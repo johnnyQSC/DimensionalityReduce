{
 "cells": [
  {
   "cell_type": "code",
   "execution_count": 1,
   "metadata": {},
   "outputs": [],
   "source": [
    "#套件載入\n",
    "import pandas as pd\n",
    "import matplotlib.pyplot as plt\n",
    "import gensim\n",
    "from sklearn.manifold import TSNE\n",
    "from mpld3 import plugins\n",
    "%matplotlib inline"
   ]
  },
  {
   "cell_type": "code",
   "execution_count": 2,
   "metadata": {},
   "outputs": [
    {
     "data": {
      "text/html": [
       "<div>\n",
       "<style scoped>\n",
       "    .dataframe tbody tr th:only-of-type {\n",
       "        vertical-align: middle;\n",
       "    }\n",
       "\n",
       "    .dataframe tbody tr th {\n",
       "        vertical-align: top;\n",
       "    }\n",
       "\n",
       "    .dataframe thead th {\n",
       "        text-align: right;\n",
       "    }\n",
       "</style>\n",
       "<table border=\"1\" class=\"dataframe\">\n",
       "  <thead>\n",
       "    <tr style=\"text-align: right;\">\n",
       "      <th></th>\n",
       "      <th>Class</th>\n",
       "      <th>Drink</th>\n",
       "      <th>Rank</th>\n",
       "      <th>Amount</th>\n",
       "      <th>Count</th>\n",
       "    </tr>\n",
       "  </thead>\n",
       "  <tbody>\n",
       "    <tr>\n",
       "      <th>0</th>\n",
       "      <td>A</td>\n",
       "      <td>7Up</td>\n",
       "      <td>7</td>\n",
       "      <td>(100, 200)</td>\n",
       "      <td>300</td>\n",
       "    </tr>\n",
       "    <tr>\n",
       "      <th>1</th>\n",
       "      <td>B</td>\n",
       "      <td>Sprite</td>\n",
       "      <td>6</td>\n",
       "      <td>(200, 10)</td>\n",
       "      <td>150</td>\n",
       "    </tr>\n",
       "    <tr>\n",
       "      <th>2</th>\n",
       "      <td>C</td>\n",
       "      <td>Pepsi</td>\n",
       "      <td>5</td>\n",
       "      <td>(200, 10)</td>\n",
       "      <td>150</td>\n",
       "    </tr>\n",
       "    <tr>\n",
       "      <th>3</th>\n",
       "      <td>D</td>\n",
       "      <td>Coke</td>\n",
       "      <td>4</td>\n",
       "      <td>(400, 100)</td>\n",
       "      <td>300</td>\n",
       "    </tr>\n",
       "    <tr>\n",
       "      <th>4</th>\n",
       "      <td>E</td>\n",
       "      <td>Cappuccino</td>\n",
       "      <td>3</td>\n",
       "      <td>(800, 10)</td>\n",
       "      <td>150</td>\n",
       "    </tr>\n",
       "    <tr>\n",
       "      <th>5</th>\n",
       "      <td>F</td>\n",
       "      <td>Espresso</td>\n",
       "      <td>2</td>\n",
       "      <td>(800, 10)</td>\n",
       "      <td>150</td>\n",
       "    </tr>\n",
       "    <tr>\n",
       "      <th>6</th>\n",
       "      <td>G</td>\n",
       "      <td>Latte</td>\n",
       "      <td>1</td>\n",
       "      <td>(900, 400)</td>\n",
       "      <td>300</td>\n",
       "    </tr>\n",
       "  </tbody>\n",
       "</table>\n",
       "</div>"
      ],
      "text/plain": [
       "  Class       Drink  Rank      Amount  Count\n",
       "0     A         7Up     7  (100, 200)    300\n",
       "1     B      Sprite     6   (200, 10)    150\n",
       "2     C       Pepsi     5   (200, 10)    150\n",
       "3     D        Coke     4  (400, 100)    300\n",
       "4     E  Cappuccino     3   (800, 10)    150\n",
       "5     F    Espresso     2   (800, 10)    150\n",
       "6     G       Latte     1  (900, 400)    300"
      ]
     },
     "execution_count": 2,
     "metadata": {},
     "output_type": "execute_result"
    }
   ],
   "source": [
    "#資料讀取\n",
    "df=pd.read_csv('TSNE_dataset.csv')\n",
    "df"
   ]
  },
  {
   "cell_type": "code",
   "execution_count": 3,
   "metadata": {},
   "outputs": [
    {
     "name": "stdout",
     "output_type": "stream",
     "text": [
      "       Coke     Pepsi       7Up    Sprite     Latte  Espresso  Cappuccino\n",
      "0  1.000000  0.616062  0.491677  0.570642  0.277807  0.199250    0.140735\n",
      "1  0.616062  1.000000  0.460241  0.540599  0.177285  0.114409    0.180004\n",
      "2  0.491677  0.460241  1.000000  0.539839  0.255465  0.193757    0.174528\n",
      "3  0.570642  0.540599  0.539839  1.000000  0.269688  0.239021    0.253089\n",
      "4  0.277807  0.177285  0.255465  0.269688  1.000000  0.548601    0.396419\n",
      "5  0.199250  0.114409  0.193757  0.239021  0.548601  1.000000    0.447165\n",
      "6  0.140735  0.180004  0.174528  0.253089  0.396419  0.447165    1.000000\n"
     ]
    }
   ],
   "source": [
    "#詞嵌入轉換相似度矩陣\n",
    "word2vec=gensim.models.KeyedVectors.load_word2vec_format(r'GoogleNews-vectors-negative300.bin', binary=True)\n",
    "distance=[]\n",
    "name=['Coke','Pepsi','7Up','Sprite','Latte','Espresso','Cappuccino']\n",
    "for i in name:\n",
    "    distance.append(word2vec[i])\n",
    "similarity=pd.DataFrame(columns=name) \n",
    "value=[]\n",
    "for j in range(7):\n",
    "    for k in range(7):\n",
    "        value.append(word2vec.similarity(name[j],name[k]))\n",
    "    similarity[name[j]]=value\n",
    "    value=[]\n",
    "print(similarity)"
   ]
  },
  {
   "cell_type": "code",
   "execution_count": 4,
   "metadata": {},
   "outputs": [
    {
     "name": "stderr",
     "output_type": "stream",
     "text": [
      "c:\\Users\\ASUS\\AppData\\Local\\Programs\\Python\\Python39\\lib\\site-packages\\sklearn\\manifold\\_t_sne.py:790: FutureWarning: The default learning rate in TSNE will change from 200.0 to 'auto' in 1.2.\n",
      "  warnings.warn(\n",
      "c:\\Users\\ASUS\\AppData\\Local\\Programs\\Python\\Python39\\lib\\site-packages\\sklearn\\manifold\\_t_sne.py:982: FutureWarning: The PCA initialization in TSNE will change to have the standard deviation of PC1 equal to 1e-4 in 1.2. This will ensure better convergence.\n",
      "  warnings.warn(\n"
     ]
    },
    {
     "data": {
      "image/png": "[encoded data removed]",
      "text/plain": [
       "<Figure size 504x504 with 1 Axes>"
      ]
     },
     "metadata": {
      "needs_background": "light"
     },
     "output_type": "display_data"
    }
   ],
   "source": [
    "#透過相似度矩陣降維\n",
    "model=TSNE(n_components=3,init='pca',n_iter=1000)\n",
    "ds=model.fit_transform(similarity)\n",
    "plt.figure(figsize=(7,7))\n",
    "plt.scatter(ds[:,0],ds[:,2],color=\"red\")\n",
    "plt.xlabel(\"X\")\n",
    "plt.ylabel(\"Y\")\n",
    "plt.title(\"Scatter Plot with annotations\")\n",
    "for i,label in enumerate(similarity.columns):\n",
    "        plt.annotate(label,(model.embedding_[i,0],model.embedding_[i,2]))\n",
    "plt.show()"
   ]
  },
  {
   "cell_type": "code",
   "execution_count": 5,
   "metadata": {},
   "outputs": [
    {
     "name": "stderr",
     "output_type": "stream",
     "text": [
      "c:\\Users\\ASUS\\AppData\\Local\\Programs\\Python\\Python39\\lib\\site-packages\\sklearn\\manifold\\_t_sne.py:790: FutureWarning: The default learning rate in TSNE will change from 200.0 to 'auto' in 1.2.\n",
      "  warnings.warn(\n",
      "c:\\Users\\ASUS\\AppData\\Local\\Programs\\Python\\Python39\\lib\\site-packages\\sklearn\\manifold\\_t_sne.py:982: FutureWarning: The PCA initialization in TSNE will change to have the standard deviation of PC1 equal to 1e-4 in 1.2. This will ensure better convergence.\n",
      "  warnings.warn(\n"
     ]
    },
    {
     "data": {
      "image/png": "[encoded data removed]",
      "text/plain": [
       "<Figure size 504x504 with 1 Axes>"
      ]
     },
     "metadata": {
      "needs_background": "light"
     },
     "output_type": "display_data"
    }
   ],
   "source": [
    "#透過1-of-k轉換後降維\n",
    "from sklearn.preprocessing import OneHotEncoder\n",
    "onehotencoder=OneHotEncoder()\n",
    "file=onehotencoder.fit_transform(df[['Drink']]).toarray()\n",
    "file=pd.DataFrame(file)\n",
    "file\n",
    "model=TSNE(n_components=3,init='pca',n_iter=1000)\n",
    "ds=model.fit_transform(file)\n",
    "plt.figure(figsize=(7,7))\n",
    "plt.scatter(ds[:,0],ds[:,2],color=\"red\")\n",
    "plt.xlabel(\"X\")\n",
    "plt.ylabel(\"Y\")\n",
    "plt.title(\"Scatter Plot with annotations\")\n",
    "for i,label in enumerate(file.columns):\n",
    "        plt.annotate(label,(model.embedding_[i,0],model.embedding_[i,2]))\n",
    "plt.show()"
   ]
  }
 ],
 "metadata": {
  "kernelspec": {
   "display_name": "Python 3.9.6 64-bit",
   "language": "python",
   "name": "python3"
  },
  "language_info": {
   "codemirror_mode": {
    "name": "ipython",
    "version": 3
   },
   "file_extension": ".py",
   "mimetype": "text/x-python",
   "name": "python",
   "nbconvert_exporter": "python",
   "pygments_lexer": "ipython3",
   "version": "3.9.6"
  },
  "orig_nbformat": 4,
  "vscode": {
   "interpreter": {
    "hash": "14958d3aee5f1cad06795f787e54b96185c25fb40dfec723a5be941f3a531b8c"
   }
  }
 },
 "nbformat": 4,
 "nbformat_minor": 2
}
